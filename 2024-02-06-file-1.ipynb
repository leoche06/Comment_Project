{
 "cells": [
  {
   "cell_type": "code",
   "execution_count": 24,
   "metadata": {
    "collapsed": false
   },
   "outputs": [
   ],
   "source": [
    "#If you want using this program, please click \"kernal\" -> \"Restart Kernal\" -> \"Restart and Run all cells\" -> \"Run All\"(you can use both)\n",
    "import csv\n",
    "\n",
    "def readfile(file_name):\n",
    "    \"\"\"read the csv file which contains each student's information\"\"\"\n",
    "    with open(file_name) as file:\n",
    "        return list(csv.reader(file))\n",
    "\n",
    "\n",
    "DATA = readfile('comments - Example (2).csv')"
   ]
  },
  {
   "cell_type": "code",
   "execution_count": 25,
   "metadata": {
    "collapsed": false
   },
   "outputs": [
   ],
   "source": [
    "# def comments():\n",
    "#     out_file = {}\n",
    "    \n",
    "#     for student in DATA:\n",
    "#         if student[0] != 'Name':\n",
    "#             out_file[student[0]] = ''\n",
    "#     return out_file\n",
    "\n",
    "# RETURNS = comments()\n",
    "# print(RETURNS)"
   ]
  },
  {
   "cell_type": "code",
   "execution_count": 26,
   "metadata": {
    "collapsed": false
   },
   "outputs": [
   ],
   "source": [
    "class_info={}\n",
    "def class_description(data):\n",
    "    \"\"\"write the class description into the comment\"\"\"\n",
    "    subject = data[1]\n",
    "    if subject in class_info.keys():\n",
    "        topics = class_info[subject]\n",
    "    else: \n",
    "        topics = data[2]\n",
    "        class_info.update({subject:topics})\n",
    "    topics = topics.split(\", \")\n",
    "    plural = ''\n",
    "    \n",
    "    if len(topics) < 1:\n",
    "        description = f\"This semester in {subject}, we worked on {topics[0]}.\"\n",
    "        return description\n",
    "        \n",
    "    else:\n",
    "        description = f\"This semester in {subject}, we covered the topics of \"\n",
    "\n",
    "        for topic in topics:\n",
    "            if topic != topics[-1]:\n",
    "                description += f'{topic}, '\n",
    "            else:\n",
    "                description += f'and {topic}. '\n",
    "\n",
    "        return description"
   ]
  },
  {
   "cell_type": "code",
   "execution_count": 27,
   "metadata": {
    "collapsed": false
   },
   "outputs": [
   ],
   "source": [
    "def working_attribute(data):\n",
    "    \"\"\"write each of the attributes of student in this class\"\"\"\n",
    "    attributes = data[3].split(\",\")\n",
    "    name = data[0]\n",
    "    sentence = f\"{name}, you did a great job on\"\n",
    "    \n",
    "    for attribute in attributes:\n",
    "        if attribute != attributes[-1] and len(attributes) > 1:\n",
    "            sentence += f' {attribute},'\n",
    "        else:\n",
    "            sentence += f' and{attribute}.'\n",
    "    return sentence"
   ]
  },
  {
   "cell_type": "code",
   "execution_count": 28,
   "metadata": {
    "collapsed": false
   },
   "outputs": [
   ],
   "source": [
    "def performance(data):\n",
    "    \"\"\"write the performance of the student in this semester according to their scores\"\"\"\n",
    "    name=data[0]\n",
    "    homework=data[4]\n",
    "    assessment=data[5]\n",
    "    overall=data[6]\n",
    "    homework_bool = False\n",
    "    assessment_bool = False\n",
    "    description = \" \"\n",
    "    end = ''\n",
    "    \n",
    "    if int(homework) >= 90:\n",
    "        homework_bool = True\n",
    "        description+=\"You did a great job on finishing your daily work.\"\n",
    "    elif int(homework) >= 80:\n",
    "        homework_bool = True\n",
    "        description+=\"You had a good attitude on doing your daily work.\"\n",
    "    else:\n",
    "        description+=\"You need to work more on completing daily work\"\n",
    "        \n",
    "    if int(assessment) >= 90:\n",
    "        assessment_bool = True\n",
    "        if homework_bool:\n",
    "            description += f\" You also did a great job on your unit assessments, \"\n",
    "        else:\n",
    "            description += ',but I can see you prepared well for the assessment.'\n",
    "    elif int(assessment) >= 80:\n",
    "        assessment_bool = True\n",
    "        if homework_bool:\n",
    "            description+=f\" You also did solid job on unit assessment, keep at it.\"\n",
    "        else:\n",
    "            description += ',but I can see you prepared for the assessment.'\n",
    "    else: \n",
    "        if homework_bool:\n",
    "            description+=f\" Your assessment however, needs some improvement.\"\n",
    "        else:\n",
    "            description += ', as well as preparing for assessments.'\n",
    "        \n",
    "    if int(overall) >=90:\n",
    "        assessent_bool = True\n",
    "        end +=\"\\nOverall, amazing work this semester.\"\n",
    "    elif int(overall) >=80:\n",
    "        assessent_bool = True\n",
    "        end +=\"\\nOverall, nice job! I look forward to seeing you improve next semester.\"\n",
    "    else:\n",
    "        end +=\"\\nIn the next semester, you should try to improve your performance according to my suggestions. I believe you can do a better job next semester!\"\n",
    "        \n",
    "    if assessent_bool and homework_bool:\n",
    "        end +=\"\\nI suggest you check in with me during office hours or free block.\"\n",
    "        \n",
    "    return (description, end)"
   ]
  },
  {
   "cell_type": "code",
   "execution_count": 29,
   "metadata": {
    "collapsed": false
   },
   "outputs": [
   ],
   "source": [
    "def lo(o):\n",
    "    '''learning outcome, quote, agree, + or -, comments'''\n",
    "    description=\"\"\"\\n\n",
    "    \"\"\"\n",
    "    if o[3].lower() == \"s\":\n",
    "        if o[2].lower() == 't':\n",
    "            description+=f'''Strength - {o[0]}\\nThis is an area where you have shown great stength. You said, \"{o[1]}\". {o[4]}'''\n",
    "        else:\n",
    "            description+=f'''Growth - {o[0]}\\nYou said, \"{o[1]}\". I dissagree, this is an area of stength for you. {o[4]}'''\n",
    "    else:\n",
    "        if o[2].lower() == 't':\n",
    "            description+=f'''Growth - {o[0]}\\nThis is an area where you can improve. You said, \"{o[1]}\". {o[4]}'''\n",
    "        else:\n",
    "            description+=f'''Strength - {o[0]}\\nYou said, \"{o[1]}\". I dissagree, this is an area of growth for you. {o[4]}'''\n",
    "    return description"
   ]
  },
  {
   "cell_type": "code",
   "execution_count": 30,
   "metadata": {
    "collapsed": false
   },
   "outputs": [
    {
     "name": "stdout",
     "output_type": "stream",
     "text": [
      "\n",
      "\n",
      "    Growth - Finger painting\n",
      "You said, \"I can paint well\". I dissagree, this is an area of stength for you. Not quite, try using paint.\n",
      "\n",
      "    Strength - coding\n",
      "This is an area where you have shown great stength. You said, \"I can code well\". Nice!\n",
      "\n",
      "    Strength - Colaberation\n",
      "You said, \"I want to improve in working well with others.\". I dissagree, this is an area of growth for you. You do work well with others.\n"
     ]
    }
   ],
   "source": [
    "def learning_objective(data):\n",
    "    \"\"\"write the learning objective of this semester and the performance of this student\"\"\"\n",
    "    lo1 = []\n",
    "    lo2 = []\n",
    "    lo3 = []\n",
    "    lo4 = []\n",
    "    middle_section = ''\n",
    "    \n",
    "    for i in range(7,12):\n",
    "        lo1.append(data[i])\n",
    "    \n",
    "    for i in range(12,17):\n",
    "        lo2.append(data[i])\n",
    "        \n",
    "    for i in range(17,22):\n",
    "        lo3.append(data[i])\n",
    "    \n",
    "    for i in range(22,27):\n",
    "        lo4.append(data[i])\n",
    "    \n",
    "    los = [lo1, lo2, lo3 ,lo4]\n",
    "    \n",
    "    for o in los:\n",
    "        if o[0]:\n",
    "            middle_section = middle_section+lo(o)\n",
    "    return middle_section\n",
    "    \n",
    "print(learning_objective(DATA[1]))"
   ]
  },
  {
   "cell_type": "code",
   "execution_count": 31,
   "metadata": {
    "collapsed": false
   },
   "outputs": [
   ],
   "source": [
    "def write_file(name,comment):\n",
    "    \"\"\"write the comment into seperate files\"\"\"\n",
    "    with open(f\"{name}.txt\",\"w\") as f:\n",
    "        f.write(comment)"
   ]
  },
  {
   "cell_type": "code",
   "execution_count": 32,
   "metadata": {
    "collapsed": false
   },
   "outputs": [
   ],
   "source": [
    "def personalized():\n",
    "    \"\"\"write the personalized comment for each student\"\"\"\n",
    "    comment=\"\"\n",
    "    for i in range(0,len(DATA)):\n",
    "        comment=\"\"\n",
    "        if DATA.index(DATA[i]) == 0:\n",
    "            continue\n",
    "        comment += class_description(DATA[i])\n",
    "        comment += working_attribute(DATA[i])\n",
    "        comment += performance(DATA[i])[0]\n",
    "        comment += learning_objective(DATA[i])\n",
    "        comment += f'\\n{performance(DATA[i])[1]}'\n",
    "        write_file(DATA[i][0],comment)\n",
    "    return comment"
   ]
  },
  {
   "cell_type": "code",
   "execution_count": 33,
   "metadata": {
    "collapsed": false
   },
   "outputs": [
    {
     "name": "stdout",
     "output_type": "stream",
     "text": [
      "This semester in Art 2, we covered the topics of limits, continuity, differentiation, and the study of integration. Leo Che, you did a great job on work ethic,  collaboration, and leadership. You did a great job on finishing your daily work. You also did solid job on unit assessment, keep at it.\n",
      "\n",
      "    Strength - Finger painting\n",
      "This is an area where you have shown great stength. You said, \"I can also paint well\". Nice!\n",
      "\n",
      "    Strength - Coding\n",
      "This is an area where you have shown great stength. You said, \"I can also code well\". Great job the semester.\n",
      "\n",
      "    Growth - Colaberation\n",
      "This is an area where you can improve. You said, \"I work well with others\". You need to stop working so well with peers.\n",
      "\n",
      "Overall, amazing work this semester.\n",
      "I suggest you check in with me during office hours or free block.\n"
     ]
    }
   ],
   "source": [
    "print(personalized())"
   ]
  },
  {
   "cell_type": "code",
   "execution_count": 0,
   "metadata": {
    "collapsed": false
   },
   "outputs": [
   ],
   "source": [
   ]
  },
  {
   "cell_type": "code",
   "execution_count": 0,
   "metadata": {
    "collapsed": false
   },
   "outputs": [
   ],
   "source": [
   ]
  }
 ],
 "metadata": {
  "kernelspec": {
   "argv": [
    "/usr/bin/python3",
    "-m",
    "ipykernel",
    "--HistoryManager.enabled=False",
    "--matplotlib=inline",
    "-c",
    "%config InlineBackend.figure_formats = set(['retina'])\nimport matplotlib; matplotlib.rcParams['figure.figsize'] = (12, 7)",
    "-f",
    "{connection_file}"
   ],
   "display_name": "Python 3 (system-wide)",
   "env": {
   },
   "language": "python",
   "metadata": {
    "cocalc": {
     "description": "Python 3 programming language",
     "priority": 100,
     "url": "https://www.python.org/"
    }
   },
   "name": "python3",
   "resource_dir": "/ext/jupyter/kernels/python3"
  },
  "language_info": {
   "codemirror_mode": {
    "name": "ipython",
    "version": 3
   },
   "file_extension": ".py",
   "mimetype": "text/x-python",
   "name": "python",
   "nbconvert_exporter": "python",
   "pygments_lexer": "ipython3",
   "version": "3.10.12"
  }
 },
 "nbformat": 4,
 "nbformat_minor": 4
}